{
 "cells": [
  {
   "cell_type": "code",
   "execution_count": 1,
   "id": "b7e40cdc",
   "metadata": {},
   "outputs": [],
   "source": [
    "# 多输入多输出通道\n",
    "import torch\n",
    "import numpy as np\n",
    "from d2l import torch as d2l"
   ]
  },
  {
   "cell_type": "code",
   "execution_count": 3,
   "id": "b9142329",
   "metadata": {},
   "outputs": [],
   "source": [
    "def corr2d_multi_in(X, K):\n",
    "    return sum(d2l.corr2d(x, k) for x, k in zip(X, K))"
   ]
  },
  {
   "cell_type": "code",
   "execution_count": 9,
   "id": "b53b489d",
   "metadata": {},
   "outputs": [],
   "source": [
    "x = torch.tensor(np.append(np.arange(9),np.arange(1, 10)))"
   ]
  },
  {
   "cell_type": "code",
   "execution_count": 50,
   "id": "f3bdf97f",
   "metadata": {},
   "outputs": [
    {
     "name": "stdout",
     "output_type": "stream",
     "text": [
      "[('a', 1), ('b', 2), ('c', 3), ('d', 4)]\n",
      "['a', 'b', 'c', 'd']\n",
      "{'a': 1, 'b': 2, 'c': 3, 'd': 4}\n"
     ]
    }
   ],
   "source": [
    "# zip 的用法\n",
    "a = ['a', 'b', 'c', 'd']\n",
    "b = [1, 2, 3, 4]\n",
    "l = list(zip(a, b))\n",
    "origin1, origin2 = zip(*l)\n",
    "print(l)\n",
    "print(list(origin1))\n",
    "\n",
    "d = dict(zip(a,b))\n",
    "print(d)"
   ]
  },
  {
   "cell_type": "code",
   "execution_count": 57,
   "id": "6644d51c",
   "metadata": {},
   "outputs": [
    {
     "name": "stdout",
     "output_type": "stream",
     "text": [
      "{'b': 2, 'c': 3, 'd': 4, 'e': 5, 'a': 1}\n",
      "{'b': 2, 'c': 3, 'd': 4, 'e': 5}\n",
      "{'b': 2, 'c': 3, 'd': 10, 'e': 5}\n",
      "3\n"
     ]
    }
   ],
   "source": [
    "# dict用法\n",
    "\n",
    "# 增\n",
    "d['a'] = 1\n",
    "d['e'] = 5\n",
    "print(d)\n",
    "\n",
    "# 删\n",
    "del d['a']\n",
    "print(d)\n",
    "\n",
    "# 改\n",
    "d['d'] = 10\n",
    "print(d)\n",
    "\n",
    "# 查\n",
    "print(d['c'])"
   ]
  },
  {
   "cell_type": "code",
   "execution_count": 19,
   "id": "615cb1d9",
   "metadata": {},
   "outputs": [],
   "source": [
    "x = x.float()"
   ]
  },
  {
   "cell_type": "code",
   "execution_count": 20,
   "id": "078b7773",
   "metadata": {},
   "outputs": [
    {
     "data": {
      "text/plain": [
       "tensor([[[0., 1., 2.],\n",
       "         [3., 4., 5.],\n",
       "         [6., 7., 8.]],\n",
       "\n",
       "        [[1., 2., 3.],\n",
       "         [4., 5., 6.],\n",
       "         [7., 8., 9.]]])"
      ]
     },
     "execution_count": 20,
     "metadata": {},
     "output_type": "execute_result"
    }
   ],
   "source": [
    "x.reshape(2,3,3)"
   ]
  },
  {
   "cell_type": "code",
   "execution_count": 21,
   "id": "b50b983a",
   "metadata": {},
   "outputs": [
    {
     "data": {
      "text/plain": [
       "torch.Size([2, 3, 3])"
      ]
     },
     "execution_count": 21,
     "metadata": {},
     "output_type": "execute_result"
    }
   ],
   "source": [
    "X = torch.tensor([[[0.0, 1.0, 2.0], [3.0, 4.0, 5.0], [6.0, 7.0, 8.0]],\n",
    "               [[1.0, 2.0, 3.0], [4.0, 5.0, 6.0], [7.0, 8.0, 9.0]]])\n",
    "X.shape"
   ]
  },
  {
   "cell_type": "code",
   "execution_count": 17,
   "id": "8363f58a",
   "metadata": {},
   "outputs": [
    {
     "data": {
      "text/plain": [
       "tensor([[[0., 1., 2.],\n",
       "         [3., 4., 5.],\n",
       "         [6., 7., 8.]],\n",
       "\n",
       "        [[1., 2., 3.],\n",
       "         [4., 5., 6.],\n",
       "         [7., 8., 9.]]])"
      ]
     },
     "execution_count": 17,
     "metadata": {},
     "output_type": "execute_result"
    }
   ],
   "source": [
    "X"
   ]
  },
  {
   "cell_type": "code",
   "execution_count": 26,
   "id": "16d06431",
   "metadata": {},
   "outputs": [],
   "source": [
    "K = torch.tensor(np.append(np.arange(4),np.arange(1,5))).reshape(2,2,2).float()"
   ]
  },
  {
   "cell_type": "code",
   "execution_count": 27,
   "id": "df8bd17d",
   "metadata": {},
   "outputs": [
    {
     "data": {
      "text/plain": [
       "tensor([[[0., 1.],\n",
       "         [2., 3.]],\n",
       "\n",
       "        [[1., 2.],\n",
       "         [3., 4.]]])"
      ]
     },
     "execution_count": 27,
     "metadata": {},
     "output_type": "execute_result"
    }
   ],
   "source": [
    "K"
   ]
  },
  {
   "cell_type": "code",
   "execution_count": 28,
   "id": "081c4102",
   "metadata": {},
   "outputs": [],
   "source": [
    "K = torch.tensor([[[0.0, 1.0], [2.0, 3.0]], [[1.0, 2.0], [3.0, 4.0]]])"
   ]
  },
  {
   "cell_type": "code",
   "execution_count": 29,
   "id": "dc1266cc",
   "metadata": {},
   "outputs": [
    {
     "data": {
      "text/plain": [
       "tensor([[[0., 1.],\n",
       "         [2., 3.]],\n",
       "\n",
       "        [[1., 2.],\n",
       "         [3., 4.]]])"
      ]
     },
     "execution_count": 29,
     "metadata": {},
     "output_type": "execute_result"
    }
   ],
   "source": [
    "K"
   ]
  },
  {
   "cell_type": "code",
   "execution_count": 31,
   "id": "60828d9f",
   "metadata": {},
   "outputs": [
    {
     "data": {
      "text/plain": [
       "torch.Size([2, 2])"
      ]
     },
     "execution_count": 31,
     "metadata": {},
     "output_type": "execute_result"
    }
   ],
   "source": [
    "corr2d_multi_in(X, K).shape"
   ]
  },
  {
   "cell_type": "code",
   "execution_count": 58,
   "id": "466d649f",
   "metadata": {},
   "outputs": [
    {
     "data": {
      "text/plain": [
       "torch.Size([3, 2, 2, 2])"
      ]
     },
     "execution_count": 58,
     "metadata": {},
     "output_type": "execute_result"
    }
   ],
   "source": [
    "def corr2d_multi_in_out(X, K):\n",
    "    return torch.stack([corr2d_multi_in(X,k) for k in K], 0)\n",
    "K = torch.stack((K, K + 1, K + 2), 0)\n",
    "K.shape"
   ]
  },
  {
   "cell_type": "code",
   "execution_count": 59,
   "id": "99e916dd",
   "metadata": {},
   "outputs": [
    {
     "data": {
      "text/plain": [
       "tensor([[[[0., 1.],\n",
       "          [2., 3.]],\n",
       "\n",
       "         [[1., 2.],\n",
       "          [3., 4.]]],\n",
       "\n",
       "\n",
       "        [[[1., 2.],\n",
       "          [3., 4.]],\n",
       "\n",
       "         [[2., 3.],\n",
       "          [4., 5.]]],\n",
       "\n",
       "\n",
       "        [[[2., 3.],\n",
       "          [4., 5.]],\n",
       "\n",
       "         [[3., 4.],\n",
       "          [5., 6.]]]])"
      ]
     },
     "execution_count": 59,
     "metadata": {},
     "output_type": "execute_result"
    }
   ],
   "source": [
    "K"
   ]
  },
  {
   "cell_type": "code",
   "execution_count": 60,
   "id": "3aab4585",
   "metadata": {},
   "outputs": [
    {
     "data": {
      "text/plain": [
       "tensor([[[ 56.,  72.],\n",
       "         [104., 120.]],\n",
       "\n",
       "        [[ 76., 100.],\n",
       "         [148., 172.]],\n",
       "\n",
       "        [[ 96., 128.],\n",
       "         [192., 224.]]])"
      ]
     },
     "execution_count": 60,
     "metadata": {},
     "output_type": "execute_result"
    }
   ],
   "source": [
    "corr2d_multi_in_out(X,K)"
   ]
  },
  {
   "cell_type": "code",
   "execution_count": 61,
   "id": "d45894bc",
   "metadata": {},
   "outputs": [
    {
     "data": {
      "text/plain": [
       "torch.Size([3, 2, 2])"
      ]
     },
     "execution_count": 61,
     "metadata": {},
     "output_type": "execute_result"
    }
   ],
   "source": [
    "corr2d_multi_in_out(X,K).shape"
   ]
  },
  {
   "cell_type": "code",
   "execution_count": 65,
   "id": "b83ed9f3",
   "metadata": {},
   "outputs": [],
   "source": [
    "# 1*1 卷积\n",
    "def corr2d_multi_in_out_1x1(X,K):\n",
    "    c_i, h, w = X.shape\n",
    "    c_o = K.shape[0]\n",
    "    X = X.reshape((c_i, h * w))\n",
    "    K = K.reshape(c_o, c_i)\n",
    "    Y = torch.matmul(K, X)\n",
    "    return Y.reshape((c_o, h, w))\n",
    "\n",
    "X = torch.normal(0, 1,(3, 3, 3))\n",
    "K = torch.normal(0, 1,(2, 3, 1, 1))\n",
    "\n",
    "Y1 = corr2d_multi_in_out_1x1(X, K)\n",
    "Y2 = corr2d_multi_in_out(X, K)\n",
    "\n",
    "assert float(torch.abs(Y1 - Y2).sum())<1e-6"
   ]
  },
  {
   "cell_type": "code",
   "execution_count": null,
   "id": "c1fbe14e",
   "metadata": {},
   "outputs": [],
   "source": []
  }
 ],
 "metadata": {
  "kernelspec": {
   "display_name": "d2l_kernel",
   "language": "python",
   "name": "d2l_kernel"
  },
  "language_info": {
   "codemirror_mode": {
    "name": "ipython",
    "version": 3
   },
   "file_extension": ".py",
   "mimetype": "text/x-python",
   "name": "python",
   "nbconvert_exporter": "python",
   "pygments_lexer": "ipython3",
   "version": "3.9.16"
  }
 },
 "nbformat": 4,
 "nbformat_minor": 5
}
