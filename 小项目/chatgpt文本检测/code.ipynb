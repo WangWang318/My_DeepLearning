{
 "cells": [
  {
   "cell_type": "code",
   "execution_count": 1,
   "metadata": {},
   "outputs": [],
   "source": [
    "import glob\n",
    "import numpy as np\n",
    "import pandas as pd\n",
    "from sklearn.linear_model import LogisticRegression"
   ]
  },
  {
   "cell_type": "code",
   "execution_count": 3,
   "metadata": {},
   "outputs": [],
   "source": [
    "train_data = pd.read_csv('./data/ChatGPT生成文本检测器公开数据-更新/train.csv')\n",
    "test_data = pd.read_csv('./data/ChatGPT生成文本检测器公开数据-更新/test.csv')"
   ]
  },
  {
   "cell_type": "code",
   "execution_count": 4,
   "metadata": {},
   "outputs": [
    {
     "name": "stdout",
     "output_type": "stream",
     "text": [
      "   name  label                                            content\n",
      "0     1      0  [4509 3181 1253 2278  290 3562 2051  599 3125 ...\n",
      "1     2      1  [ 263 1325 2563 4160 2196  169 3125 2563 2619 ...\n",
      "2     3      0  [3635  177 3125 1251 3839 5212 2109 1171 1194 ...\n",
      "3     4      1  [3037  266  246 3547 1253 2278 3125  649  697 ...\n",
      "4     5      0  [ 177 3125 1547 4060 5212 4687 5164 3125 3974 ...\n",
      "5     6      0  [ 248  146 2404 5195  434 4396 4431  434 1241 ...\n",
      "6     7      0  [2683 2483 5212 1759 3125 1294  199 5212 4626 ...\n",
      "7     8      0  [   0    0  734 5212  216 2107 3516 2078 4546 ...\n",
      "8     9      0  [   0    0 1146 1329 1140 3125 3327  675  139 ...\n",
      "9    10      0  [   0    0    0 2188 2214 3334 1806  139 1275 ...\n"
     ]
    }
   ],
   "source": [
    "print(train_data[0:10])"
   ]
  }
 ],
 "metadata": {
  "kernelspec": {
   "display_name": "Python 3.9.16 ('d2l')",
   "language": "python",
   "name": "python3"
  },
  "language_info": {
   "codemirror_mode": {
    "name": "ipython",
    "version": 3
   },
   "file_extension": ".py",
   "mimetype": "text/x-python",
   "name": "python",
   "nbconvert_exporter": "python",
   "pygments_lexer": "ipython3",
   "version": "3.9.16"
  },
  "orig_nbformat": 4,
  "vscode": {
   "interpreter": {
    "hash": "b6811291ebc6a1101dad9e06911db63e2939aee7bbc2b0dc38a0c92b3ecb53df"
   }
  }
 },
 "nbformat": 4,
 "nbformat_minor": 2
}
